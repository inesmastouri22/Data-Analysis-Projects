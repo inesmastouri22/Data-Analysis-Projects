{
 "cells": [
  {
   "cell_type": "code",
   "execution_count": 235,
   "id": "cdf12683-cab9-4020-b8e5-b90ad49f5d98",
   "metadata": {},
   "outputs": [],
   "source": [
    "import pandas as pd\n",
    "import numpy as np\n",
    "import matplotlib.pyplot as plt\n",
    "import seaborn as sns\n",
    "import nltk\n",
    "from nltk.tokenize import word_tokenize\n",
    "\n",
    "plt.style.use ('ggplot')\n",
    "import nltk"
   ]
  },
  {
   "cell_type": "code",
   "execution_count": 236,
   "id": "4066d570-0e6b-429c-bac7-1ad22d3de444",
   "metadata": {},
   "outputs": [],
   "source": [
    "df = pd.read_csv('C:/Users/DELL/Downloads/BBC news/bbc_news.csv')"
   ]
  },
  {
   "cell_type": "code",
   "execution_count": 237,
   "id": "ab71f82e-946c-43cd-80f6-08f59575b9a1",
   "metadata": {},
   "outputs": [
    {
     "data": {
      "text/html": [
       "<div>\n",
       "<style scoped>\n",
       "    .dataframe tbody tr th:only-of-type {\n",
       "        vertical-align: middle;\n",
       "    }\n",
       "\n",
       "    .dataframe tbody tr th {\n",
       "        vertical-align: top;\n",
       "    }\n",
       "\n",
       "    .dataframe thead th {\n",
       "        text-align: right;\n",
       "    }\n",
       "</style>\n",
       "<table border=\"1\" class=\"dataframe\">\n",
       "  <thead>\n",
       "    <tr style=\"text-align: right;\">\n",
       "      <th></th>\n",
       "      <th>title</th>\n",
       "      <th>pubDate</th>\n",
       "      <th>guid</th>\n",
       "      <th>link</th>\n",
       "      <th>description</th>\n",
       "    </tr>\n",
       "  </thead>\n",
       "  <tbody>\n",
       "    <tr>\n",
       "      <th>0</th>\n",
       "      <td>Ukraine: Angry Zelensky vows to punish Russian...</td>\n",
       "      <td>Mon, 07 Mar 2022 08:01:56 GMT</td>\n",
       "      <td>https://www.bbc.co.uk/news/world-europe-60638042</td>\n",
       "      <td>https://www.bbc.co.uk/news/world-europe-606380...</td>\n",
       "      <td>The Ukrainian president says the country will ...</td>\n",
       "    </tr>\n",
       "    <tr>\n",
       "      <th>1</th>\n",
       "      <td>War in Ukraine: Taking cover in a town under a...</td>\n",
       "      <td>Sun, 06 Mar 2022 22:49:58 GMT</td>\n",
       "      <td>https://www.bbc.co.uk/news/world-europe-60641873</td>\n",
       "      <td>https://www.bbc.co.uk/news/world-europe-606418...</td>\n",
       "      <td>Jeremy Bowen was on the frontline in Irpin, as...</td>\n",
       "    </tr>\n",
       "    <tr>\n",
       "      <th>2</th>\n",
       "      <td>Ukraine war 'catastrophic for global food'</td>\n",
       "      <td>Mon, 07 Mar 2022 00:14:42 GMT</td>\n",
       "      <td>https://www.bbc.co.uk/news/business-60623941</td>\n",
       "      <td>https://www.bbc.co.uk/news/business-60623941?a...</td>\n",
       "      <td>One of the world's biggest fertiliser firms sa...</td>\n",
       "    </tr>\n",
       "    <tr>\n",
       "      <th>3</th>\n",
       "      <td>Manchester Arena bombing: Saffie Roussos's par...</td>\n",
       "      <td>Mon, 07 Mar 2022 00:05:40 GMT</td>\n",
       "      <td>https://www.bbc.co.uk/news/uk-60579079</td>\n",
       "      <td>https://www.bbc.co.uk/news/uk-60579079?at_medi...</td>\n",
       "      <td>The parents of the Manchester Arena bombing's ...</td>\n",
       "    </tr>\n",
       "    <tr>\n",
       "      <th>4</th>\n",
       "      <td>Ukraine conflict: Oil price soars to highest l...</td>\n",
       "      <td>Mon, 07 Mar 2022 08:15:53 GMT</td>\n",
       "      <td>https://www.bbc.co.uk/news/business-60642786</td>\n",
       "      <td>https://www.bbc.co.uk/news/business-60642786?a...</td>\n",
       "      <td>Consumers are feeling the impact of higher ene...</td>\n",
       "    </tr>\n",
       "  </tbody>\n",
       "</table>\n",
       "</div>"
      ],
      "text/plain": [
       "                                               title  \\\n",
       "0  Ukraine: Angry Zelensky vows to punish Russian...   \n",
       "1  War in Ukraine: Taking cover in a town under a...   \n",
       "2         Ukraine war 'catastrophic for global food'   \n",
       "3  Manchester Arena bombing: Saffie Roussos's par...   \n",
       "4  Ukraine conflict: Oil price soars to highest l...   \n",
       "\n",
       "                         pubDate  \\\n",
       "0  Mon, 07 Mar 2022 08:01:56 GMT   \n",
       "1  Sun, 06 Mar 2022 22:49:58 GMT   \n",
       "2  Mon, 07 Mar 2022 00:14:42 GMT   \n",
       "3  Mon, 07 Mar 2022 00:05:40 GMT   \n",
       "4  Mon, 07 Mar 2022 08:15:53 GMT   \n",
       "\n",
       "                                               guid  \\\n",
       "0  https://www.bbc.co.uk/news/world-europe-60638042   \n",
       "1  https://www.bbc.co.uk/news/world-europe-60641873   \n",
       "2      https://www.bbc.co.uk/news/business-60623941   \n",
       "3            https://www.bbc.co.uk/news/uk-60579079   \n",
       "4      https://www.bbc.co.uk/news/business-60642786   \n",
       "\n",
       "                                                link  \\\n",
       "0  https://www.bbc.co.uk/news/world-europe-606380...   \n",
       "1  https://www.bbc.co.uk/news/world-europe-606418...   \n",
       "2  https://www.bbc.co.uk/news/business-60623941?a...   \n",
       "3  https://www.bbc.co.uk/news/uk-60579079?at_medi...   \n",
       "4  https://www.bbc.co.uk/news/business-60642786?a...   \n",
       "\n",
       "                                         description  \n",
       "0  The Ukrainian president says the country will ...  \n",
       "1  Jeremy Bowen was on the frontline in Irpin, as...  \n",
       "2  One of the world's biggest fertiliser firms sa...  \n",
       "3  The parents of the Manchester Arena bombing's ...  \n",
       "4  Consumers are feeling the impact of higher ene...  "
      ]
     },
     "execution_count": 237,
     "metadata": {},
     "output_type": "execute_result"
    }
   ],
   "source": [
    "df.head()"
   ]
  },
  {
   "cell_type": "code",
   "execution_count": 238,
   "id": "7bbea4c1-dc28-43ab-8314-ceee79672658",
   "metadata": {},
   "outputs": [
    {
     "name": "stdout",
     "output_type": "stream",
     "text": [
      "(35860, 5)\n"
     ]
    }
   ],
   "source": [
    "print(df.shape)"
   ]
  },
  {
   "cell_type": "code",
   "execution_count": 239,
   "id": "fb824fbf-1746-47ac-a559-40886245ff4a",
   "metadata": {},
   "outputs": [
    {
     "name": "stderr",
     "output_type": "stream",
     "text": [
      "[nltk_data] Downloading package punkt to\n",
      "[nltk_data]     C:\\Users\\DELL\\AppData\\Roaming\\nltk_data...\n",
      "[nltk_data]   Unzipping tokenizers\\punkt.zip.\n"
     ]
    },
    {
     "data": {
      "text/plain": [
       "True"
      ]
     },
     "execution_count": 239,
     "metadata": {},
     "output_type": "execute_result"
    }
   ],
   "source": [
    "import nltk\n",
    "nltk.download('punkt', force=True)\n"
   ]
  },
  {
   "cell_type": "code",
   "execution_count": 240,
   "id": "e9c5704a-8c3e-4b60-889e-1710b354cd95",
   "metadata": {},
   "outputs": [
    {
     "data": {
      "text/plain": [
       "Index(['title', 'pubDate', 'guid', 'link', 'description'], dtype='object')"
      ]
     },
     "execution_count": 240,
     "metadata": {},
     "output_type": "execute_result"
    }
   ],
   "source": [
    "df.columns"
   ]
  },
  {
   "cell_type": "code",
   "execution_count": 241,
   "id": "9b8c7df9-7ccc-4972-82f9-a33a9b5f160c",
   "metadata": {},
   "outputs": [
    {
     "data": {
      "text/plain": [
       "title          object\n",
       "pubDate        object\n",
       "guid           object\n",
       "link           object\n",
       "description    object\n",
       "dtype: object"
      ]
     },
     "execution_count": 241,
     "metadata": {},
     "output_type": "execute_result"
    }
   ],
   "source": [
    "df.dtypes"
   ]
  },
  {
   "cell_type": "code",
   "execution_count": 242,
   "id": "3e5e936c-14a3-4930-b81f-d05766dc5fb1",
   "metadata": {},
   "outputs": [
    {
     "data": {
      "text/html": [
       "<div>\n",
       "<style scoped>\n",
       "    .dataframe tbody tr th:only-of-type {\n",
       "        vertical-align: middle;\n",
       "    }\n",
       "\n",
       "    .dataframe tbody tr th {\n",
       "        vertical-align: top;\n",
       "    }\n",
       "\n",
       "    .dataframe thead th {\n",
       "        text-align: right;\n",
       "    }\n",
       "</style>\n",
       "<table border=\"1\" class=\"dataframe\">\n",
       "  <thead>\n",
       "    <tr style=\"text-align: right;\">\n",
       "      <th></th>\n",
       "      <th>title</th>\n",
       "      <th>pubDate</th>\n",
       "      <th>guid</th>\n",
       "      <th>link</th>\n",
       "      <th>description</th>\n",
       "    </tr>\n",
       "  </thead>\n",
       "  <tbody>\n",
       "    <tr>\n",
       "      <th>count</th>\n",
       "      <td>35860</td>\n",
       "      <td>35860</td>\n",
       "      <td>35860</td>\n",
       "      <td>35860</td>\n",
       "      <td>35860</td>\n",
       "    </tr>\n",
       "    <tr>\n",
       "      <th>unique</th>\n",
       "      <td>33889</td>\n",
       "      <td>34470</td>\n",
       "      <td>33081</td>\n",
       "      <td>32335</td>\n",
       "      <td>33124</td>\n",
       "    </tr>\n",
       "    <tr>\n",
       "      <th>top</th>\n",
       "      <td>Election poll tracker: How do the parties comp...</td>\n",
       "      <td>Tue, 13 Jun 2023 10:25:22 GMT</td>\n",
       "      <td>https://www.bbc.co.uk/news/business-61634959</td>\n",
       "      <td>https://www.bbc.co.uk/news/business-61634959?a...</td>\n",
       "      <td>How closely have you been paying attention to ...</td>\n",
       "    </tr>\n",
       "    <tr>\n",
       "      <th>freq</th>\n",
       "      <td>34</td>\n",
       "      <td>9</td>\n",
       "      <td>63</td>\n",
       "      <td>61</td>\n",
       "      <td>80</td>\n",
       "    </tr>\n",
       "  </tbody>\n",
       "</table>\n",
       "</div>"
      ],
      "text/plain": [
       "                                                    title  \\\n",
       "count                                               35860   \n",
       "unique                                              33889   \n",
       "top     Election poll tracker: How do the parties comp...   \n",
       "freq                                                   34   \n",
       "\n",
       "                              pubDate  \\\n",
       "count                           35860   \n",
       "unique                          34470   \n",
       "top     Tue, 13 Jun 2023 10:25:22 GMT   \n",
       "freq                                9   \n",
       "\n",
       "                                                guid  \\\n",
       "count                                          35860   \n",
       "unique                                         33081   \n",
       "top     https://www.bbc.co.uk/news/business-61634959   \n",
       "freq                                              63   \n",
       "\n",
       "                                                     link  \\\n",
       "count                                               35860   \n",
       "unique                                              32335   \n",
       "top     https://www.bbc.co.uk/news/business-61634959?a...   \n",
       "freq                                                   61   \n",
       "\n",
       "                                              description  \n",
       "count                                               35860  \n",
       "unique                                              33124  \n",
       "top     How closely have you been paying attention to ...  \n",
       "freq                                                   80  "
      ]
     },
     "execution_count": 242,
     "metadata": {},
     "output_type": "execute_result"
    }
   ],
   "source": [
    "df.describe()"
   ]
  },
  {
   "cell_type": "code",
   "execution_count": 243,
   "id": "4eafdee2-299e-4bc2-8b6d-b61d703dd920",
   "metadata": {},
   "outputs": [
    {
     "data": {
      "text/plain": [
       "title          0\n",
       "pubDate        0\n",
       "guid           0\n",
       "link           0\n",
       "description    0\n",
       "dtype: int64"
      ]
     },
     "execution_count": 243,
     "metadata": {},
     "output_type": "execute_result"
    }
   ],
   "source": [
    "df.isna().sum()"
   ]
  },
  {
   "cell_type": "code",
   "execution_count": 244,
   "id": "db55b533-d4a6-405e-b7da-e42fb6190467",
   "metadata": {},
   "outputs": [
    {
     "data": {
      "text/html": [
       "<div>\n",
       "<style scoped>\n",
       "    .dataframe tbody tr th:only-of-type {\n",
       "        vertical-align: middle;\n",
       "    }\n",
       "\n",
       "    .dataframe tbody tr th {\n",
       "        vertical-align: top;\n",
       "    }\n",
       "\n",
       "    .dataframe thead th {\n",
       "        text-align: right;\n",
       "    }\n",
       "</style>\n",
       "<table border=\"1\" class=\"dataframe\">\n",
       "  <thead>\n",
       "    <tr style=\"text-align: right;\">\n",
       "      <th></th>\n",
       "      <th>title</th>\n",
       "      <th>pubDate</th>\n",
       "      <th>guid</th>\n",
       "      <th>link</th>\n",
       "      <th>description</th>\n",
       "    </tr>\n",
       "  </thead>\n",
       "  <tbody>\n",
       "  </tbody>\n",
       "</table>\n",
       "</div>"
      ],
      "text/plain": [
       "Empty DataFrame\n",
       "Columns: [title, pubDate, guid, link, description]\n",
       "Index: []"
      ]
     },
     "execution_count": 244,
     "metadata": {},
     "output_type": "execute_result"
    }
   ],
   "source": [
    "df.loc[df.duplicated()]"
   ]
  },
  {
   "cell_type": "code",
   "execution_count": 245,
   "id": "d73847f5-ff37-4c3a-954f-e04121894f54",
   "metadata": {},
   "outputs": [],
   "source": [
    "import pandas as pd\n",
    "from nltk.sentiment.vader import SentimentIntensityAnalyzer\n",
    "import nltk"
   ]
  },
  {
   "cell_type": "code",
   "execution_count": 246,
   "id": "655aaf98-de23-4394-b507-f21eb686796a",
   "metadata": {},
   "outputs": [
    {
     "name": "stderr",
     "output_type": "stream",
     "text": [
      "[nltk_data] Downloading package vader_lexicon to\n",
      "[nltk_data]     C:\\Users\\DELL\\AppData\\Roaming\\nltk_data...\n",
      "[nltk_data]   Package vader_lexicon is already up-to-date!\n"
     ]
    },
    {
     "data": {
      "text/plain": [
       "True"
      ]
     },
     "execution_count": 246,
     "metadata": {},
     "output_type": "execute_result"
    }
   ],
   "source": [
    "nltk.download('vader_lexicon')"
   ]
  },
  {
   "cell_type": "code",
   "execution_count": 247,
   "id": "3f8a258b-6db8-4087-b72b-0c37b9114ab3",
   "metadata": {},
   "outputs": [
    {
     "name": "stdout",
     "output_type": "stream",
     "text": [
      "['title', 'pubDate', 'guid', 'link', 'description']\n"
     ]
    }
   ],
   "source": [
    "print(df.columns.tolist())"
   ]
  },
  {
   "cell_type": "code",
   "execution_count": 248,
   "id": "67007556-fa2f-4ca6-bd10-58f8557ccef0",
   "metadata": {},
   "outputs": [
    {
     "name": "stdout",
     "output_type": "stream",
     "text": [
      "                                               title  \\\n",
      "0  Ukraine: Angry Zelensky vows to punish Russian...   \n",
      "1  War in Ukraine: Taking cover in a town under a...   \n",
      "2         Ukraine war 'catastrophic for global food'   \n",
      "3  Manchester Arena bombing: Saffie Roussos's par...   \n",
      "4  Ukraine conflict: Oil price soars to highest l...   \n",
      "\n",
      "                         pubDate  \\\n",
      "0  Mon, 07 Mar 2022 08:01:56 GMT   \n",
      "1  Sun, 06 Mar 2022 22:49:58 GMT   \n",
      "2  Mon, 07 Mar 2022 00:14:42 GMT   \n",
      "3  Mon, 07 Mar 2022 00:05:40 GMT   \n",
      "4  Mon, 07 Mar 2022 08:15:53 GMT   \n",
      "\n",
      "                                               guid  \\\n",
      "0  https://www.bbc.co.uk/news/world-europe-60638042   \n",
      "1  https://www.bbc.co.uk/news/world-europe-60641873   \n",
      "2      https://www.bbc.co.uk/news/business-60623941   \n",
      "3            https://www.bbc.co.uk/news/uk-60579079   \n",
      "4      https://www.bbc.co.uk/news/business-60642786   \n",
      "\n",
      "                                                link  \\\n",
      "0  https://www.bbc.co.uk/news/world-europe-606380...   \n",
      "1  https://www.bbc.co.uk/news/world-europe-606418...   \n",
      "2  https://www.bbc.co.uk/news/business-60623941?a...   \n",
      "3  https://www.bbc.co.uk/news/uk-60579079?at_medi...   \n",
      "4  https://www.bbc.co.uk/news/business-60642786?a...   \n",
      "\n",
      "                                         description title_sentiment  \\\n",
      "0  The Ukrainian president says the country will ...        negative   \n",
      "1  Jeremy Bowen was on the frontline in Irpin, as...        negative   \n",
      "2  One of the world's biggest fertiliser firms sa...        negative   \n",
      "3  The parents of the Manchester Arena bombing's ...        positive   \n",
      "4  Consumers are feeling the impact of higher ene...        negative   \n",
      "\n",
      "  description_sentiment overall_sentiment  \n",
      "0              negative          negative  \n",
      "1              negative          negative  \n",
      "2              negative          negative  \n",
      "3              negative          negative  \n",
      "4              positive          negative  \n"
     ]
    }
   ],
   "source": [
    "sid = SentimentIntensityAnalyzer()\n",
    "\n",
    "def get_sentiment(text):\n",
    "    sentiment_scores = sid.polarity_scores(text)\n",
    "    if sentiment_scores['compound'] >= 0.05:\n",
    "        return 'positive'\n",
    "    elif sentiment_scores['compound'] <= -0.05:\n",
    "        return 'negative'\n",
    "    else:\n",
    "        return 'neutral'\n",
    "\n",
    "df['title_sentiment'] = df['title'].apply(get_sentiment)\n",
    "df['description_sentiment'] = df['description'].apply(get_sentiment)\n",
    "\n",
    "# Combine sentiments to determine overall sentiment\n",
    "df['overall_sentiment'] = df[['title_sentiment', 'description_sentiment']].mode(axis=1)[0]\n",
    "\n",
    "print(df.head())\n",
    "\n",
    "df.to_csv('C:/Users/DELL/Downloads/BBC News Analysis.csv', index=False)"
   ]
  },
  {
   "cell_type": "code",
   "execution_count": null,
   "id": "0a798b02-1ea0-4d2c-a4ab-b6c14a7161f6",
   "metadata": {},
   "outputs": [],
   "source": [
    "sid = SentimentIntensityAnalyzer()\n",
    "\n",
    "def get_sentiment(text):\n",
    "    sentiment_scores = sid.polarity_scores(text)\n",
    "    if sentiment_scores['compound'] >= 0.05:\n",
    "        return 'positive'\n",
    "    elif sentiment_scores['compound'] <= -0.05:\n",
    "        return 'negative'\n",
    "    else:\n",
    "        return 'neutral'\n",
    "\n",
    "# Apply sentiment analysis to the 'title' and 'description' columns\n",
    "df['title_sentiment'] = df['title'].apply(get_sentiment)\n",
    "df['description_sentiment'] = df['description'].apply(get_sentiment)\n",
    "\n",
    "# You might want to combine these sentiments or analyze them separately\n",
    "# Example: Overall sentiment based on title and description\n",
    "df['overall_sentiment'] = df[['title_sentiment', 'description_sentiment']].mode(axis=1)[0]\n",
    "\n",
    "# Print the sentiment counts\n",
    "print(df['overall_sentiment'].value_counts())"
   ]
  },
  {
   "cell_type": "code",
   "execution_count": null,
   "id": "de40c138-1c21-47c2-9219-84ea0da8bcc6",
   "metadata": {},
   "outputs": [],
   "source": [
    "sentiment_counts = df['overall_sentiment'].value_counts()\n",
    "# Pie Chart\n",
    "plt.figure(figsize=(6, 4))\n",
    "plt.pie(sentiment_counts, labels=sentiment_counts.index, autopct='%1.1f%%', colors=sns.color_palette(\"pastel\"))\n",
    "plt.title('Distribution of Sentiment')\n",
    "plt.show()"
   ]
  },
  {
   "cell_type": "code",
   "execution_count": 195,
   "id": "3fb2dc10-a20a-4664-b61d-6a8496da16c6",
   "metadata": {},
   "outputs": [
    {
     "name": "stdout",
     "output_type": "stream",
     "text": [
      "                                                               title_x  \\\n",
      "pubDate_x                                                                \n",
      "2023-02-21 00:33:20  Grammar schools still failing to boost number ...   \n",
      "2022-09-19 23:39:34  Ukraine war: A village celebrates Russian retreat   \n",
      "2022-10-24 23:32:43  Russia accused of sabotaging Ukraine water pip...   \n",
      "2023-03-03 14:12:09  Always-available veg recipes you can rely on t...   \n",
      "2023-04-04 12:38:23                    How to crack Easter on a budget   \n",
      "\n",
      "                                                                  guid  \\\n",
      "pubDate_x                                                                \n",
      "2023-02-21 00:33:20  https://www.bbc.co.uk/digihub/family-and-educa...   \n",
      "2022-09-19 23:39:34    https://www.bbc.co.uk/digihub/politics-62930568   \n",
      "2022-10-24 23:32:43    https://www.bbc.co.uk/digihub/politics-63092858   \n",
      "2023-03-03 14:12:09  https://www.bbc.co.uk/food/articles/always_ava...   \n",
      "2023-04-04 12:38:23  https://www.bbc.co.uk/food/articles/budget_easter   \n",
      "\n",
      "                                                                link_x  \\\n",
      "pubDate_x                                                                \n",
      "2023-02-21 00:33:20  https://www.bbc.co.uk/digihub/family-and-educa...   \n",
      "2022-09-19 23:39:34  https://www.bbc.co.uk/digihub/politics-6293056...   \n",
      "2022-10-24 23:32:43  https://www.bbc.co.uk/digihub/politics-6309285...   \n",
      "2023-03-03 14:12:09  https://www.bbc.co.uk/food/articles/always_ava...   \n",
      "2023-04-04 12:38:23  https://www.bbc.co.uk/food/articles/budget_eas...   \n",
      "\n",
      "                                                         description_x  \\\n",
      "pubDate_x                                                                \n",
      "2023-02-21 00:33:20  Most have tried to improve their admissions po...   \n",
      "2022-09-19 23:39:34  Russia's Ukraine retreat leaves joy, but also ...   \n",
      "2022-10-24 23:32:43  A BBC investigation finds evidence that Russia...   \n",
      "2023-03-03 14:12:09  If the limited veg availability has left your ...   \n",
      "2023-04-04 12:38:23  BBC Food's money saving tips for making Easter...   \n",
      "\n",
      "                    title_sentiment description_sentiment overall_sentiment  \n",
      "pubDate_x                                                                    \n",
      "2023-02-21 00:33:20        negative              positive          negative  \n",
      "2022-09-19 23:39:34        positive              negative          negative  \n",
      "2022-10-24 23:32:43        negative              negative          negative  \n",
      "2023-03-03 14:12:09        negative              negative          negative  \n",
      "2023-04-04 12:38:23         neutral              positive           neutral  \n"
     ]
    }
   ],
   "source": [
    "columns_to_drop = ['title_y', 'pubDate_y', 'link_y', 'description_y']\n",
    "combined_df = combined_df.drop(columns=columns_to_drop, errors='ignore')\n",
    "\n",
    "combined_df.to_csv('C:/Users/DELL/Downloads/BBC_News_Combined_Cleaned.csv', index=False)\n",
    "print(combined_df.head())"
   ]
  },
  {
   "cell_type": "code",
   "execution_count": 196,
   "id": "cb12e1d9-c0a6-41a3-9a41-30800b6b71d7",
   "metadata": {},
   "outputs": [
    {
     "data": {
      "text/html": [
       "<div>\n",
       "<style scoped>\n",
       "    .dataframe tbody tr th:only-of-type {\n",
       "        vertical-align: middle;\n",
       "    }\n",
       "\n",
       "    .dataframe tbody tr th {\n",
       "        vertical-align: top;\n",
       "    }\n",
       "\n",
       "    .dataframe thead th {\n",
       "        text-align: right;\n",
       "    }\n",
       "</style>\n",
       "<table border=\"1\" class=\"dataframe\">\n",
       "  <thead>\n",
       "    <tr style=\"text-align: right;\">\n",
       "      <th></th>\n",
       "      <th>title_x</th>\n",
       "      <th>guid</th>\n",
       "      <th>link_x</th>\n",
       "      <th>description_x</th>\n",
       "      <th>title_sentiment</th>\n",
       "      <th>description_sentiment</th>\n",
       "      <th>overall_sentiment</th>\n",
       "    </tr>\n",
       "    <tr>\n",
       "      <th>pubDate_x</th>\n",
       "      <th></th>\n",
       "      <th></th>\n",
       "      <th></th>\n",
       "      <th></th>\n",
       "      <th></th>\n",
       "      <th></th>\n",
       "      <th></th>\n",
       "    </tr>\n",
       "  </thead>\n",
       "  <tbody>\n",
       "    <tr>\n",
       "      <th>2023-02-21 00:33:20</th>\n",
       "      <td>Grammar schools still failing to boost number ...</td>\n",
       "      <td>https://www.bbc.co.uk/digihub/family-and-educa...</td>\n",
       "      <td>https://www.bbc.co.uk/digihub/family-and-educa...</td>\n",
       "      <td>Most have tried to improve their admissions po...</td>\n",
       "      <td>negative</td>\n",
       "      <td>positive</td>\n",
       "      <td>negative</td>\n",
       "    </tr>\n",
       "    <tr>\n",
       "      <th>2022-09-19 23:39:34</th>\n",
       "      <td>Ukraine war: A village celebrates Russian retreat</td>\n",
       "      <td>https://www.bbc.co.uk/digihub/politics-62930568</td>\n",
       "      <td>https://www.bbc.co.uk/digihub/politics-6293056...</td>\n",
       "      <td>Russia's Ukraine retreat leaves joy, but also ...</td>\n",
       "      <td>positive</td>\n",
       "      <td>negative</td>\n",
       "      <td>negative</td>\n",
       "    </tr>\n",
       "    <tr>\n",
       "      <th>2022-10-24 23:32:43</th>\n",
       "      <td>Russia accused of sabotaging Ukraine water pip...</td>\n",
       "      <td>https://www.bbc.co.uk/digihub/politics-63092858</td>\n",
       "      <td>https://www.bbc.co.uk/digihub/politics-6309285...</td>\n",
       "      <td>A BBC investigation finds evidence that Russia...</td>\n",
       "      <td>negative</td>\n",
       "      <td>negative</td>\n",
       "      <td>negative</td>\n",
       "    </tr>\n",
       "    <tr>\n",
       "      <th>2023-03-03 14:12:09</th>\n",
       "      <td>Always-available veg recipes you can rely on t...</td>\n",
       "      <td>https://www.bbc.co.uk/food/articles/always_ava...</td>\n",
       "      <td>https://www.bbc.co.uk/food/articles/always_ava...</td>\n",
       "      <td>If the limited veg availability has left your ...</td>\n",
       "      <td>negative</td>\n",
       "      <td>negative</td>\n",
       "      <td>negative</td>\n",
       "    </tr>\n",
       "    <tr>\n",
       "      <th>2023-04-04 12:38:23</th>\n",
       "      <td>How to crack Easter on a budget</td>\n",
       "      <td>https://www.bbc.co.uk/food/articles/budget_easter</td>\n",
       "      <td>https://www.bbc.co.uk/food/articles/budget_eas...</td>\n",
       "      <td>BBC Food's money saving tips for making Easter...</td>\n",
       "      <td>neutral</td>\n",
       "      <td>positive</td>\n",
       "      <td>neutral</td>\n",
       "    </tr>\n",
       "  </tbody>\n",
       "</table>\n",
       "</div>"
      ],
      "text/plain": [
       "                                                               title_x  \\\n",
       "pubDate_x                                                                \n",
       "2023-02-21 00:33:20  Grammar schools still failing to boost number ...   \n",
       "2022-09-19 23:39:34  Ukraine war: A village celebrates Russian retreat   \n",
       "2022-10-24 23:32:43  Russia accused of sabotaging Ukraine water pip...   \n",
       "2023-03-03 14:12:09  Always-available veg recipes you can rely on t...   \n",
       "2023-04-04 12:38:23                    How to crack Easter on a budget   \n",
       "\n",
       "                                                                  guid  \\\n",
       "pubDate_x                                                                \n",
       "2023-02-21 00:33:20  https://www.bbc.co.uk/digihub/family-and-educa...   \n",
       "2022-09-19 23:39:34    https://www.bbc.co.uk/digihub/politics-62930568   \n",
       "2022-10-24 23:32:43    https://www.bbc.co.uk/digihub/politics-63092858   \n",
       "2023-03-03 14:12:09  https://www.bbc.co.uk/food/articles/always_ava...   \n",
       "2023-04-04 12:38:23  https://www.bbc.co.uk/food/articles/budget_easter   \n",
       "\n",
       "                                                                link_x  \\\n",
       "pubDate_x                                                                \n",
       "2023-02-21 00:33:20  https://www.bbc.co.uk/digihub/family-and-educa...   \n",
       "2022-09-19 23:39:34  https://www.bbc.co.uk/digihub/politics-6293056...   \n",
       "2022-10-24 23:32:43  https://www.bbc.co.uk/digihub/politics-6309285...   \n",
       "2023-03-03 14:12:09  https://www.bbc.co.uk/food/articles/always_ava...   \n",
       "2023-04-04 12:38:23  https://www.bbc.co.uk/food/articles/budget_eas...   \n",
       "\n",
       "                                                         description_x  \\\n",
       "pubDate_x                                                                \n",
       "2023-02-21 00:33:20  Most have tried to improve their admissions po...   \n",
       "2022-09-19 23:39:34  Russia's Ukraine retreat leaves joy, but also ...   \n",
       "2022-10-24 23:32:43  A BBC investigation finds evidence that Russia...   \n",
       "2023-03-03 14:12:09  If the limited veg availability has left your ...   \n",
       "2023-04-04 12:38:23  BBC Food's money saving tips for making Easter...   \n",
       "\n",
       "                    title_sentiment description_sentiment overall_sentiment  \n",
       "pubDate_x                                                                    \n",
       "2023-02-21 00:33:20        negative              positive          negative  \n",
       "2022-09-19 23:39:34        positive              negative          negative  \n",
       "2022-10-24 23:32:43        negative              negative          negative  \n",
       "2023-03-03 14:12:09        negative              negative          negative  \n",
       "2023-04-04 12:38:23         neutral              positive           neutral  "
      ]
     },
     "execution_count": 196,
     "metadata": {},
     "output_type": "execute_result"
    }
   ],
   "source": [
    "combined_df.head()"
   ]
  },
  {
   "cell_type": "code",
   "execution_count": null,
   "id": "0e6505d4-f236-49bc-bd7f-64cebdc1d419",
   "metadata": {},
   "outputs": [],
   "source": [
    "from sklearn.feature_extraction.text import CountVectorizer\n",
    "import pandas as pd\n",
    "import seaborn as sns\n",
    "import matplotlib.pyplot as plt\n",
    "\n",
    "vectorizer = CountVectorizer(stop_words='english')\n",
    "X = vectorizer.fit_transform(df['title'].fillna(''))\n",
    "\n",
    "word_freq = X.toarray().sum(axis=0)\n",
    "words = vectorizer.get_feature_names_out()\n",
    "\n",
    "word_freq_df = pd.DataFrame({'word': words, 'frequency': word_freq})\n",
    "top_words = word_freq_df.sort_values(by='frequency', ascending=False).head(20) \n",
    "\n",
    "heatmap_data = top_words[['frequency']].T\n",
    "\n",
    "plt.figure(figsize=(10, 4))\n",
    "ax = sns.heatmap(heatmap_data, cmap='Blues', annot=True, fmt='d', cbar=False, \n",
    "                 yticklabels=False, xticklabels=top_words['word'])\n",
    "plt.title('Top 20 Most Frequent Words in Titles')\n",
    "plt.xlabel('Words')\n",
    "plt.ylabel('Frequency')\n",
    "plt.show()\n"
   ]
  },
  {
   "cell_type": "code",
   "execution_count": 226,
   "id": "0e1bf965-8fa2-44c2-93fa-d7cf838048fe",
   "metadata": {},
   "outputs": [
    {
     "data": {
      "image/png": "[encoded data removed]",
      "text/plain": [
       "<Figure size 400x400 with 1 Axes>"
      ]
     },
     "metadata": {},
     "output_type": "display_data"
    }
   ],
   "source": [
    "ukraine_articles = df['title'].str.contains('Ukraine', case=False).sum()\n",
    "other_articles = len(df) - ukraine_articles\n",
    "\n",
    "plt.figure(figsize=(4, 4))\n",
    "plt.pie([ukraine_articles, other_articles], labels=['Ukraine', 'Other'], autopct='%1.1f%%', colors=['lightblue', 'lightgreen'])\n",
    "plt.title('Proportion of Articles Containing \"Ukraine\"')\n",
    "plt.show()\n"
   ]
  },
  {
   "cell_type": "code",
   "execution_count": 228,
   "id": "5d798733-f601-4dd1-a29f-20c1a173c482",
   "metadata": {},
   "outputs": [
    {
     "data": {
      "image/png": "[encoded data removed]",
      "text/plain": [
       "<Figure size 500x500 with 1 Axes>"
      ]
     },
     "metadata": {},
     "output_type": "display_data"
    }
   ],
   "source": [
    "import pandas as pd\n",
    "import matplotlib.pyplot as plt\n",
    "\n",
    "# List of words to check\n",
    "words_to_check = ['Ukraine', 'USA', 'UK', 'Europe', 'Economy']\n",
    "\n",
    "# Count occurrences of each word in the 'title' column\n",
    "def count_word_occurrences(df, words):\n",
    "    counts = {word: df['title'].str.contains(word, case=False, na=False).sum() for word in words}\n",
    "    return counts\n",
    "\n",
    "\n",
    "word_counts = count_word_occurrences(df, words_to_check)\n",
    "\n",
    "word_counts_df = pd.DataFrame(list(word_counts.items()), columns=['Word', 'Count'])\n",
    "\n",
    "# Plot pie chart\n",
    "plt.figure(figsize=(5, 5))\n",
    "plt.pie(word_counts_df['Count'], labels=word_counts_df['Word'], autopct='%1.1f%%', colors=plt.get_cmap('Pastel1').colors)\n",
    "plt.title('Proportion of Articles Containing Specific Words')\n",
    "plt.show()\n"
   ]
  },
  {
   "cell_type": "code",
   "execution_count": null,
   "id": "607e6f51-ab9c-426f-afb5-df38aecb141a",
   "metadata": {},
   "outputs": [],
   "source": []
  }
 ],
 "metadata": {
  "kernelspec": {
   "display_name": "Python 3 (ipykernel)",
   "language": "python",
   "name": "python3"
  },
  "language_info": {
   "codemirror_mode": {
    "name": "ipython",
    "version": 3
   },
   "file_extension": ".py",
   "mimetype": "text/x-python",
   "name": "python",
   "nbconvert_exporter": "python",
   "pygments_lexer": "ipython3",
   "version": "3.12.4"
  }
 },
 "nbformat": 4,
 "nbformat_minor": 5
}
